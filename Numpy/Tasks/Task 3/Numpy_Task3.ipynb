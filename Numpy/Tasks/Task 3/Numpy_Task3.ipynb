{
 "cells": [
  {
   "cell_type": "markdown",
   "metadata": {},
   "source": [
    "# Election Results\n",
    "\n",
    "You’re part of an impartial research group that conducts phone surveys prior to local elections. During this election season, the group conducted a survey to determine how many people would vote for I_Khan vs. S_Sharif in the presidential election.\n",
    "\n",
    "Now that the election has occurred, your group wants to compare the survey responses to the actual results.\n",
    "\n",
    "Was your survey a good indicator? Let’s find out!"
   ]
  },
  {
   "cell_type": "markdown",
   "metadata": {},
   "source": [
    "# PROJECT STEPS"
   ]
  },
  {
   "cell_type": "markdown",
   "metadata": {},
   "source": [
    "1. First, import numpy and matplotlib."
   ]
  },
  {
   "cell_type": "code",
   "execution_count": 1,
   "metadata": {},
   "outputs": [],
   "source": [
    "#type your code here\n",
    "import numpy as np\n"
   ]
  },
  {
   "cell_type": "markdown",
   "metadata": {},
   "source": [
    "2. There is a list given of the different survey responses.<br/>\n",
    "Calculate the number of people who answered ‘I_Khan’ and save the answer to the variable total_Khan.<br/>\n",
    "Print the variable to the terminal to see its value."
   ]
  },
  {
   "cell_type": "code",
   "execution_count": 2,
   "metadata": {},
   "outputs": [],
   "source": [
    "survey_responses = ['I_Khan', 'S_Sharif', 'I_Khan', 'I_Khan', 'I_Khan','S_Sharif',\n",
    "                    'S_Sharif', 'I_Khan', 'I_Khan', 'I_Khan', 'S_Sharif', 'S_Sharif',\n",
    "                    'I_Khan', 'I_Khan', 'S_Sharif', 'S_Sharif','I_Khan', 'I_Khan', \n",
    "                    'S_Sharif', 'S_Sharif', 'S_Sharif', 'S_Sharif', 'S_Sharif', 'S_Sharif', \n",
    "                    'I_Khan', 'I_Khan', 'I_Khan', 'I_Khan', 'I_Khan', 'I_Khan',\n",
    "                    'S_Sharif', 'S_Sharif', 'I_Khan', 'I_Khan', 'I_Khan', 'S_Sharif',\n",
    "                    'S_Sharif', 'I_Khan', 'I_Khan', 'S_Sharif', 'S_Sharif', 'I_Khan', \n",
    "                    'I_Khan', 'S_Sharif', 'S_Sharif', 'S_Sharif', 'S_Sharif', 'S_Sharif',\n",
    "                    'S_Sharif', 'I_Khan','S_Sharif', 'S_Sharif', 'I_Khan', 'I_Khan', \n",
    "                    'I_Khan', 'S_Sharif', 'S_Sharif', 'I_Khan', 'I_Khan', 'S_Sharif', \n",
    "                    'S_Sharif', 'I_Khan', 'I_Khan', 'S_Sharif', 'S_Sharif', 'S_Sharif', \n",
    "                    'S_Sharif', 'S_Sharif', 'S_Sharif', 'I_Khan']\n",
    "\n",
    "#type your code here\n",
    "survey_responses = np.array(survey_responses)\n",
    "total_Khan = len(survey_responses[survey_responses=='I_Khan'])"
   ]
  },
  {
   "cell_type": "markdown",
   "metadata": {},
   "source": [
    "3. Calculate the percentage of people in the survey who voted for I_Khan and save it to the variable percentage_I_Khan.<br/>\n",
    "Print the variable to the terminal to see its value."
   ]
  },
  {
   "cell_type": "code",
   "execution_count": 3,
   "metadata": {},
   "outputs": [
    {
     "name": "stdout",
     "output_type": "stream",
     "text": [
      "47.14%\n"
     ]
    }
   ],
   "source": [
    "#type your code here\n",
    "percentage_I_Khan = total_Khan/len(survey_responses)\n",
    "print(f\"{percentage_I_Khan*100:.2f}%\")"
   ]
  },
  {
   "cell_type": "markdown",
   "metadata": {},
   "source": [
    "4. In the real election, 54% of the 10,000 town population voted for I_Khan. Your supervisors are concerned because this is a very different outcome than what the poll predicted. They want you to determine if there is something wrong with the poll or if given the sample size, it was an entirely reasonable result.<br/>\n",
    "Generate a binomial distribution that takes the number of total survey responses, the actual success rate, and the size of the town’s population as its parameters. Then divide the distribution by the number of survey responses. Save your calculation to the variable possible_surveys.\n",
    "\n",
    "\n",
    "<div style='text-align: center'>######### hint###########</div>\n",
    "\n",
    "```\n",
    "possible_surveys = \n",
    "np.random.binomial(total of survey responses, the actual success rate,and the size of the town’s population ) \n",
    "```"
   ]
  },
  {
   "cell_type": "markdown",
   "metadata": {},
   "source": [
    "---\n",
    "\n",
    "**Start of Exploratory Coding**\n",
    "\n",
    "*Working in the following cells are just for my understanding*"
   ]
  },
  {
   "cell_type": "markdown",
   "metadata": {},
   "source": [
    "The formula below generates a distribution of number of votes casted in favor of `I_Khan` (out of 70) over 10,000 trials\n",
    "\n",
    "```python\n",
    "np.random.binomial(sample size, prob of +ve outcome, number of trials)\n",
    "```"
   ]
  },
  {
   "cell_type": "code",
   "execution_count": 4,
   "metadata": {},
   "outputs": [
    {
     "name": "stdout",
     "output_type": "stream",
     "text": [
      "Number of votes in favor of I_Khan for the first 100 trials is as below\n"
     ]
    },
    {
     "data": {
      "text/plain": [
       "array([35, 41, 46, 43, 43, 29, 40, 38, 43, 41, 40, 40, 43, 40, 44, 33, 40,\n",
       "       43, 31, 39, 39, 32, 40, 35, 37, 30, 42, 36, 37, 38, 37, 43, 41, 28,\n",
       "       34, 41, 43, 37, 42, 37, 43, 40, 31, 33, 33, 42, 35, 38, 44, 31, 49,\n",
       "       34, 38, 42, 35, 43, 32, 36, 45, 44, 29, 37, 41, 35, 27, 44, 47, 39,\n",
       "       35, 38, 33, 35, 39, 41, 44, 48, 38, 42, 33, 39, 42, 40, 31, 45, 34,\n",
       "       36, 38, 29, 38, 50, 33, 40, 42, 30, 34, 39, 35, 37, 31, 40])"
      ]
     },
     "execution_count": 4,
     "metadata": {},
     "output_type": "execute_result"
    }
   ],
   "source": [
    "print(\"Number of votes in favor of I_Khan for the first 100 trials is as below\")\n",
    "np.random.binomial(len(survey_responses), 0.54, 10_000)[:100]"
   ]
  },
  {
   "cell_type": "markdown",
   "metadata": {},
   "source": [
    "**End of Exploratory Coding**\n",
    "\n",
    "---"
   ]
  },
  {
   "cell_type": "code",
   "execution_count": 5,
   "metadata": {},
   "outputs": [],
   "source": [
    "#type your code here\n",
    "possible_surveys = np.random.binomial(len(survey_responses), 0.54, 10_000)/len(survey_responses)"
   ]
  },
  {
   "cell_type": "markdown",
   "metadata": {},
   "source": [
    "\n",
    "      #######Optional########\n",
    "5.By using matplotlib Plot a histogram of possible_surveys with a range of 0-1 and 20 bins.\n"
   ]
  },
  {
   "cell_type": "code",
   "execution_count": 10,
   "metadata": {},
   "outputs": [
    {
     "data": {
      "image/png": "[encoded data removed]",
      "text/plain": [
       "<Figure size 432x288 with 1 Axes>"
      ]
     },
     "metadata": {
      "needs_background": "light"
     },
     "output_type": "display_data"
    }
   ],
   "source": [
    "# #type your code here\n",
    "import matplotlib.pyplot as plt\n",
    "\n",
    "plt.hist(x=possible_surveys, bins=20, range=(0, 1))\n",
    "plt.show()"
   ]
  },
  {
   "cell_type": "markdown",
   "metadata": {},
   "source": [
    "6.As we saw, 47% of people we surveyed said they would vote for I_Khan, but 54% of people voted for I_Khan in the actual election.\n",
    "\n",
    "Calculate the percentage of surveys that could have an outcome of I_Khan receiving less than 50% of the vote and save it to the variable I_Khan_loss_surveys.\n",
    "\n",
    "Print the variable to the terminal."
   ]
  },
  {
   "cell_type": "code",
   "execution_count": 19,
   "metadata": {},
   "outputs": [
    {
     "name": "stdout",
     "output_type": "stream",
     "text": [
      "21.25%\n"
     ]
    }
   ],
   "source": [
    "#type your code here\n",
    "\n",
    "I_Khan_loss_surveys = len(possible_surveys[possible_surveys<0.5])/10_000\n",
    "print(f\"{I_Khan_loss_surveys*100:.2f}%\")"
   ]
  },
  {
   "cell_type": "markdown",
   "metadata": {},
   "source": [
    "7.With this current poll, about 20% of the time a survey output would predict S_Sharif winning, even if I_Khan won the actual election.\n",
    "\n",
    "Your co-worker points out that your poll would be more accurate if it had more responders.\n",
    "\n",
    "Generate another binomial distribution, but this time, see what would happen if you had instead surveyed 7,000 people. Divide the distribution by the size of the survey and save your findings to large_survey.\n"
   ]
  },
  {
   "cell_type": "code",
   "execution_count": 31,
   "metadata": {},
   "outputs": [],
   "source": [
    "#type your code here\n",
    "large_surveys = np.random.binomial(7_000, 0.54, 10_000)/7_000"
   ]
  },
  {
   "cell_type": "markdown",
   "metadata": {},
   "source": [
    "8.Now, recalculate the percentage of surveys that would have an outcome of I_Khan losing and save it to the variable I_Khan_loss_new, and print the value to the terminal.\n",
    "\n",
    "What do we notice about this new value?\n",
    "\n",
    "What advice would you give to your supervisors about predicting results from surveys?\n"
   ]
  },
  {
   "cell_type": "code",
   "execution_count": 33,
   "metadata": {},
   "outputs": [
    {
     "name": "stdout",
     "output_type": "stream",
     "text": [
      "0.00%\n"
     ]
    }
   ],
   "source": [
    "#type your code here\n",
    "\n",
    "I_Khan_loss_new = len(large_surveys[large_surveys<0.5])/7_000\n",
    "print(f\"{I_Khan_loss_new:.2f}%\")"
   ]
  },
  {
   "cell_type": "markdown",
   "metadata": {},
   "source": [
    "The sample size of 70 people for population of 10,000 was too small to accurately predict the outcome of the election. On the other hand, sample size of 7,000 was too much and unnecessary.\n",
    "\n",
    "The rule of thumb in selecting sample is to choose 10% or 1,000 (which ever is lower). In this case, for population size of 10,000, a reasonable sample size would be 1000. For sample size of 1,000, the probability of an outcome other than predicted is as below"
   ]
  },
  {
   "cell_type": "code",
   "execution_count": 38,
   "metadata": {},
   "outputs": [
    {
     "name": "stdout",
     "output_type": "stream",
     "text": [
      "0.00%\n"
     ]
    }
   ],
   "source": [
    "optimum_surveys = np.random.binomial(1_000, 0.54, 10_000)/1_000\n",
    "I_Khan_loss_optimum = len(large_surveys[large_surveys<0.5])/1_000\n",
    "print(f\"{I_Khan_loss_optimum:.2f}%\")"
   ]
  },
  {
   "cell_type": "markdown",
   "metadata": {},
   "source": [
    "As shown above, the result obtained with sample size of 1,000 is as accurate as the results obtained with sample size of 7,000. Thus proving that performing survey of sample size of 7,000 as opposed to sample size of 1,000 will be waste of time and money"
   ]
  },
  {
   "cell_type": "code",
   "execution_count": null,
   "metadata": {},
   "outputs": [],
   "source": []
  }
 ],
 "metadata": {
  "kernelspec": {
   "display_name": "PIAIC",
   "language": "python",
   "name": "env"
  },
  "language_info": {
   "codemirror_mode": {
    "name": "ipython",
    "version": 3
   },
   "file_extension": ".py",
   "mimetype": "text/x-python",
   "name": "python",
   "nbconvert_exporter": "python",
   "pygments_lexer": "ipython3",
   "version": "3.8.5"
  }
 },
 "nbformat": 4,
 "nbformat_minor": 4
}
